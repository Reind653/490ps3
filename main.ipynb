{
 "cells": [
  {
   "cell_type": "code",
   "execution_count": 36,
   "metadata": {},
   "outputs": [
    {
     "name": "stdout",
     "output_type": "stream",
     "text": [
      "Test accuracy: 97.78%\n"
     ]
    }
   ],
   "source": [
    "#implementation on iris dataset\n",
    "import numpy as np\n",
    "from neural_network import NeuralNetwork\n",
    "from dataset import load_and_preprocess_data\n",
    "from sklearn.metrics import accuracy_score\n",
    "\n",
    "#load dataset\n",
    "X_train, X_test, y_train, y_test = load_and_preprocess_data('iris.csv')\n",
    "\n",
    "#one-hot encode the labels\n",
    "y_train_onehot = np.eye(len(np.unique(y_train)))[y_train]\n",
    "y_test_onehot = np.eye(len(np.unique(y_test)))[y_test]\n",
    "\n",
    "#initialize and train the neural network\n",
    "input_size = X_train.shape[1]\n",
    "hidden_size = 4\n",
    "output_size = y_train_onehot.shape[1]\n",
    "learning_rate = 0.01\n",
    "\n",
    "nn = NeuralNetwork(input_size, hidden_size, output_size, learning_rate)\n",
    "nn.train(X_train, y_train_onehot, epochs=1000)\n",
    "\n",
    "#predict on test set\n",
    "y_pred = nn.predict(X_test)\n",
    "y_pred_labels = np.argmax(y_pred, axis=1)\n",
    "\n",
    "#accuracy evaluation\n",
    "accuracy = accuracy_score(y_test, y_pred_labels)\n",
    "print(f\"Test accuracy: {accuracy * 100:.2f}%\")\n"
   ]
  }
 ],
 "metadata": {
  "kernelspec": {
   "display_name": "Python 3",
   "language": "python",
   "name": "python3"
  },
  "language_info": {
   "codemirror_mode": {
    "name": "ipython",
    "version": 3
   },
   "file_extension": ".py",
   "mimetype": "text/x-python",
   "name": "python",
   "nbconvert_exporter": "python",
   "pygments_lexer": "ipython3",
   "version": "3.12.5"
  }
 },
 "nbformat": 4,
 "nbformat_minor": 2
}
