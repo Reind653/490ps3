{
 "cells": [
  {
   "cell_type": "code",
   "execution_count": 34,
   "metadata": {},
   "outputs": [],
   "source": [
    "#neural network section\n",
    "import numpy as np\n",
    "\n",
    "class NeuralNetwork:\n",
    "    #initialize weights and biases randomly\n",
    "    def __init__(self, input_size, hidden_size, output_size, learning_rate=0.01):\n",
    "        self.weights_input_hidden = np.random.rand(input_size, hidden_size) - 0.5\n",
    "        self.weights_hidden_output = np.random.rand(hidden_size, output_size) - 0.5\n",
    "        self.bias_hidden = np.random.rand(hidden_size) - 0.5\n",
    "        self.bias_output = np.random.rand(output_size) - 0.5\n",
    "        self.learning_rate = learning_rate\n",
    "\n",
    "    def sigmoid(self, x):\n",
    "        return 1 / (1 + np.exp(-x))\n",
    "\n",
    "    def sigmoid_derivative(self, x):\n",
    "        return x * (1 - x)\n",
    "\n",
    "    def forward(self, x):\n",
    "        self.hidden_input = np.dot(x, self.weights_input_hidden) + self.bias_hidden\n",
    "        self.hidden_output = self.sigmoid(self.hidden_input) \n",
    "        self.final_input = np.dot(self.hidden_output, self.weights_hidden_output) + self.bias_output\n",
    "        self.final_output = self.sigmoid(self.final_input)\n",
    "        return self.final_output\n",
    "\n",
    "    def backward(self, x, y, output):\n",
    "        output_error = y - output\n",
    "        output_delta = output_error * self.sigmoid_derivative(output)\n",
    "        \n",
    "        hidden_error = output_delta.dot(self.weights_hidden_output.T)\n",
    "        hidden_delta = hidden_error * self.sigmoid_derivative(self.hidden_output)\n",
    "\n",
    "        #update weights and biases\n",
    "        self.weights_hidden_output += self.hidden_output.T.dot(output_delta) * self.learning_rate\n",
    "        self.weights_input_hidden += x.T.dot(hidden_delta) * self.learning_rate\n",
    "        self.bias_output += np.sum(output_delta, axis=0) * self.learning_rate\n",
    "        self.bias_hidden += np.sum(hidden_delta, axis=0) * self.learning_rate\n",
    "\n",
    "    def train(self, x, y, epochs=100):\n",
    "        for epoch in range(epochs):\n",
    "            output = self.forward(x)\n",
    "            self.backward(x, y, output)\n",
    "\n",
    "    def predict(self, x):\n",
    "        return self.forward(x)\n"
   ]
  },
  {
   "cell_type": "code",
   "execution_count": 31,
   "metadata": {},
   "outputs": [],
   "source": [
    "# dataset preprocessing section\n",
    "import pandas as pd\n",
    "from sklearn.model_selection import train_test_split\n",
    "from sklearn.preprocessing import StandardScaler, LabelEncoder\n",
    "\n",
    "def load_and_preprocess_data(filepath):\n",
    "    data = pd.read_csv(filepath)\n",
    "    X = data.iloc[:, :-1].values  #input features\n",
    "    y = data.iloc[:, -1].values   #labels\n",
    "    \n",
    "    #transform text target labels into numerical ones\n",
    "    label_encoder = LabelEncoder()\n",
    "    y = label_encoder.fit_transform(y)\n",
    "    \n",
    "    #normalize features\n",
    "    scaler = StandardScaler()\n",
    "    X = scaler.fit_transform(X)\n",
    "    \n",
    "    #train-test split\n",
    "    X_train, X_test, y_train, y_test = train_test_split(X, y, test_size=0.3, random_state=42)\n",
    "    \n",
    "    return X_train, X_test, y_train, y_test\n"
   ]
  },
  {
   "cell_type": "code",
   "execution_count": 35,
   "metadata": {},
   "outputs": [
    {
     "name": "stdout",
     "output_type": "stream",
     "text": [
      "Test accuracy: 97.78%\n"
     ]
    }
   ],
   "source": [
    "#implementation on iris dataset\n",
    "from sklearn.metrics import accuracy_score\n",
    "\n",
    "#load dataset\n",
    "X_train, X_test, y_train, y_test = load_and_preprocess_data('iris.csv')\n",
    "\n",
    "#one-hot encode the labels\n",
    "y_train_onehot = np.eye(len(np.unique(y_train)))[y_train]\n",
    "y_test_onehot = np.eye(len(np.unique(y_test)))[y_test]\n",
    "\n",
    "#initialize and train the neural network\n",
    "input_size = X_train.shape[1]\n",
    "hidden_size = 4\n",
    "output_size = y_train_onehot.shape[1]\n",
    "learning_rate = 0.01\n",
    "\n",
    "nn = NeuralNetwork(input_size, hidden_size, output_size, learning_rate)\n",
    "nn.train(X_train, y_train_onehot, epochs=1000)\n",
    "\n",
    "#predict on test set\n",
    "y_pred = nn.predict(X_test)\n",
    "y_pred_labels = np.argmax(y_pred, axis=1)\n",
    "\n",
    "#accuracy evaluation\n",
    "accuracy = accuracy_score(y_test, y_pred_labels)\n",
    "print(f\"Test accuracy: {accuracy * 100:.2f}%\")\n"
   ]
  },
  {
   "cell_type": "code",
   "execution_count": null,
   "metadata": {},
   "outputs": [],
   "source": []
  }
 ],
 "metadata": {
  "kernelspec": {
   "display_name": "Python 3",
   "language": "python",
   "name": "python3"
  },
  "language_info": {
   "codemirror_mode": {
    "name": "ipython",
    "version": 3
   },
   "file_extension": ".py",
   "mimetype": "text/x-python",
   "name": "python",
   "nbconvert_exporter": "python",
   "pygments_lexer": "ipython3",
   "version": "3.12.5"
  }
 },
 "nbformat": 4,
 "nbformat_minor": 2
}
